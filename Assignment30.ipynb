{
 "cells": [
  {
   "cell_type": "code",
   "execution_count": null,
   "id": "b21eed4e-1590-4807-a037-b6d030a03b10",
   "metadata": {},
   "outputs": [],
   "source": [
    "program to accept percentage as a input from the user and display garde according to the input\n"
   ]
  },
  {
   "cell_type": "code",
   "execution_count": 1,
   "id": "48b27072-9533-4533-a125-a0dd7586ea1e",
   "metadata": {},
   "outputs": [
    {
     "name": "stdin",
     "output_type": "stream",
     "text": [
      "enter the number:  89\n"
     ]
    },
    {
     "name": "stdout",
     "output_type": "stream",
     "text": [
      "grade: B\n"
     ]
    }
   ],
   "source": [
    "number = float(input(\"enter the number: \"))\n",
    "if  number > 90:\n",
    "    print(\"grade: A\")\n",
    "elif 90>=number>80:\n",
    "    print(\"grade: B\")\n",
    "elif 80>=number>=60:\n",
    "    print(\"Grade: C\")\n",
    "elif number<60:\n",
    "    print(\"Grade: D\") "
   ]
  },
  {
   "cell_type": "code",
   "execution_count": null,
   "id": "efa9b070-87b7-4a0f-a62f-56435eeff70f",
   "metadata": {},
   "outputs": [],
   "source": [
    "Program to accept the cost price of bike and display the road tax to be paid according to the given criteria"
   ]
  },
  {
   "cell_type": "code",
   "execution_count": null,
   "id": "02af2296-3c4f-465c-a643-d3279c6d5ecb",
   "metadata": {},
   "outputs": [],
   "source": [
    "cost_price = int(input(\"Enter the price: \"))\n",
    "if cost_price > 100000:\n",
    "    print(\"15% Tax you have to paid\")\n",
    "elif 50000<cost_price<=100000:\n",
    "    print(\"10% Tax you have to paid\")\n",
    "elif cost_price <= 50000:\n",
    "    print(\"5% Tax you have to paid\")"
   ]
  },
  {
   "cell_type": "code",
   "execution_count": null,
   "id": "dec2b6c3-e90e-4ce4-8dbe-d8655eb7d5bb",
   "metadata": {},
   "outputs": [],
   "source": [
    "Accept the city from the usser and display monuments of that city\n"
   ]
  },
  {
   "cell_type": "code",
   "execution_count": null,
   "id": "7893375a-2a43-41a3-a5b4-10212bc5683e",
   "metadata": {},
   "outputs": [],
   "source": [
    "def display_monument(city):\n",
    "  monuments = {\n",
    "    \"Delhi\": \"Red Fort\",\n",
    "    \"Agra\": \"Taj Mahal\",\n",
    "    \"Jaipur\": \"Jal Mahal\",}\n",
    "\n",
    "  if city in monuments:\n",
    "    print(f\"The famous monument in {city} is the {monuments[city]}\")\n",
    "  else:\n",
    "    print(f\"No information available for the monument in {city}\")\n",
    "\n",
    "city = input(\"Enter the name of a city: \")\n",
    "display_monument(city)"
   ]
  },
  {
   "cell_type": "code",
   "execution_count": null,
   "id": "8cff24ae-c643-42cc-9195-8aa49a674ae4",
   "metadata": {},
   "outputs": [],
   "source": [
    "CHECK HOW MANY TIMES A GIVEN NUMBER CAN BE DIVISIBLE BY 3 BEFORE IT IS LESS THAN OR EQUAL TO 10\n"
   ]
  },
  {
   "cell_type": "code",
   "execution_count": 2,
   "id": "09263533-e936-4cdf-87ad-4aa4e17103f1",
   "metadata": {},
   "outputs": [
    {
     "name": "stdin",
     "output_type": "stream",
     "text": [
      "enter the number 15\n"
     ]
    },
    {
     "name": "stdout",
     "output_type": "stream",
     "text": [
      "1\n"
     ]
    }
   ],
   "source": [
    "def division_by_3(n):\n",
    "    count = 0\n",
    "    while n > 10:\n",
    "        n = n / 3\n",
    "        count += 1\n",
    "    return count\n",
    "\n",
    "n = float(input(\"enter the number\"))\n",
    "print(division_by_3(n))"
   ]
  },
  {
   "cell_type": "code",
   "execution_count": null,
   "id": "90a8a8cf-7570-460b-853b-c3caa9d08271",
   "metadata": {},
   "outputs": [],
   "source": [
    "WHY AND WHEN TO USE WHILE LOOP IN PYTHON GIVE A DETAILED DESCRIPTION WITH EXAMPLE"
   ]
  },
  {
   "cell_type": "code",
   "execution_count": null,
   "id": "8e4c7938-eb69-409c-a1da-f0576103afc7",
   "metadata": {},
   "outputs": [],
   "source": [
    "We use while loop to do a task repeatedly,the while loop checks a condition and executes the task as long as that condition is satisfied, the loop will stop execution once the condition becomes False."
   ]
  },
  {
   "cell_type": "code",
   "execution_count": null,
   "id": "078f4b7d-ce96-4ffe-8591-042597ebf15e",
   "metadata": {},
   "outputs": [],
   "source": []
  },
  {
   "cell_type": "code",
   "execution_count": null,
   "id": "6a3a49f7-edc0-4088-8d87-3c208281db4a",
   "metadata": {},
   "outputs": [],
   "source": [
    "USE NESTED WHILE LOOP TO PRINT 3 DIFFERENT PATTERN."
   ]
  },
  {
   "cell_type": "code",
   "execution_count": 3,
   "id": "680396ff-f181-4cfc-9ba5-050c34cf4c73",
   "metadata": {},
   "outputs": [
    {
     "name": "stdout",
     "output_type": "stream",
     "text": [
      "*****\n",
      "*****\n",
      "*****\n",
      "*****\n",
      "*****\n"
     ]
    }
   ],
   "source": [
    "i=1\n",
    "while i<=5:\n",
    "    j=1\n",
    "    while j<=5:\n",
    "        print(\"*\",end=\"\")\n",
    "        j=j+1\n",
    "    print(\"\")\n",
    "    i=i+1"
   ]
  },
  {
   "cell_type": "code",
   "execution_count": 4,
   "id": "e95d7e44-1857-4cee-8f1a-260deddd9a12",
   "metadata": {},
   "outputs": [
    {
     "name": "stdout",
     "output_type": "stream",
     "text": [
      "*\n",
      "**\n",
      "***\n",
      "****\n",
      "*****\n"
     ]
    }
   ],
   "source": [
    "i=1\n",
    "while i<=5:\n",
    "    j=1\n",
    "    while j<=i:\n",
    "        print(\"*\",end=\"\")\n",
    "        j=j+1\n",
    "    print(\"\")\n",
    "    i=i+1"
   ]
  },
  {
   "cell_type": "code",
   "execution_count": 5,
   "id": "5aaeb991-b83d-4b43-ae17-95be91df0e9a",
   "metadata": {},
   "outputs": [
    {
     "name": "stdout",
     "output_type": "stream",
     "text": [
      "*****\n",
      "****\n",
      "***\n",
      "**\n",
      "*\n"
     ]
    }
   ],
   "source": [
    "i=1\n",
    "while i<=5:\n",
    "    j=i\n",
    "    while j<=5:\n",
    "        print(\"*\",end=\"\")\n",
    "        j=j+1\n",
    "    print(\"\")\n",
    "    i=i+1"
   ]
  },
  {
   "cell_type": "code",
   "execution_count": null,
   "id": "6384bac1-0819-48fd-b1a0-653e3f58d51d",
   "metadata": {},
   "outputs": [],
   "source": [
    "REVERSE A WHILE LOOP TO DISPLAY NUMBERS FROM 10 TO 1"
   ]
  },
  {
   "cell_type": "code",
   "execution_count": 7,
   "id": "7fdbe0dd-ee13-44ed-8176-986edc3b7f03",
   "metadata": {},
   "outputs": [
    {
     "name": "stdout",
     "output_type": "stream",
     "text": [
      "10\n",
      "9\n",
      "8\n",
      "7\n",
      "6\n",
      "5\n",
      "4\n",
      "3\n",
      "2\n",
      "1\n"
     ]
    }
   ],
   "source": [
    "i = 10\n",
    "while i >=1:\n",
    "    print(i)\n",
    "    i=i-1"
   ]
  },
  {
   "cell_type": "code",
   "execution_count": null,
   "id": "44188117-7c71-49b2-a742-cd0da08831df",
   "metadata": {},
   "outputs": [],
   "source": []
  }
 ],
 "metadata": {
  "kernelspec": {
   "display_name": "Python 3 (ipykernel)",
   "language": "python",
   "name": "python3"
  },
  "language_info": {
   "codemirror_mode": {
    "name": "ipython",
    "version": 3
   },
   "file_extension": ".py",
   "mimetype": "text/x-python",
   "name": "python",
   "nbconvert_exporter": "python",
   "pygments_lexer": "ipython3",
   "version": "3.10.8"
  }
 },
 "nbformat": 4,
 "nbformat_minor": 5
}
